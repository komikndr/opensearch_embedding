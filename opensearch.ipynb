{
 "cells": [
  {
   "cell_type": "markdown",
   "id": "766a731c-fdc8-43a9-ab6a-aae8b3d82720",
   "metadata": {},
   "source": [
    "# OpenSearch\n",
    "\n",
    "A guide to using embeddings with OpenSearch ML Plugins. Ensure that your OpenSearch cluster has the embedding plugins installed.\n",
    "\n",
    "For more information, visit: https://opensearch.org/docs/latest/ml-commons-plugin/pretrained-models/#sentence-transformers\""
   ]
  },
  {
   "cell_type": "code",
   "execution_count": null,
   "id": "9b0f624d-b469-4974-acd0-a8c8b74b5f48",
   "metadata": {},
   "outputs": [],
   "source": [
    "from langchain_community.embeddings.opensearch import OpenSearchEmbeddings"
   ]
  },
  {
   "cell_type": "code",
   "execution_count": null,
   "id": "213122f3-169e-4fa6-99cb-c8a3bc77aff8",
   "metadata": {},
   "outputs": [],
   "source": [
    "#Let's initialized opensearch client using opensearchpy\n",
    "from opensearchpy import OpenSearch\n",
    "\n",
    "client = OpenSearch(\n",
    "        hosts=[{'host': \"localhost\", 'port': 9200}],\n",
    "        http_auth=(\"username\", \"password\"),\n",
    "        use_ssl=True,\n",
    "        verify_certs=False\n",
    ")"
   ]
  },
  {
   "cell_type": "code",
   "execution_count": null,
   "id": "029f030e-06b0-40ec-8848-f1a91c8762f6",
   "metadata": {},
   "outputs": [],
   "source": [
    "model_id = \"embedding_model_id\""
   ]
  },
  {
   "cell_type": "code",
   "execution_count": null,
   "id": "013eabdf-9fbf-41f9-a932-7b580f2ece49",
   "metadata": {},
   "outputs": [],
   "source": [
    "embeddings = OpenSearchEmbeddings.from_opensearch_connection(opensearch_client, model_id)"
   ]
  },
  {
   "cell_type": "markdown",
   "id": "1c34d540-f642-48ef-ba10-be3f8948b6c7",
   "metadata": {},
   "source": [
    "### Embedding documents"
   ]
  },
  {
   "cell_type": "code",
   "execution_count": null,
   "id": "d8432efd-6315-4dcf-92a4-1a772c5caa9d",
   "metadata": {},
   "outputs": [],
   "source": [
    "documents = [\"Foo\", \"Bar\", \"Foo Bar\"]\n",
    "embedded_documents = embeddings.embed_documents(documents)"
   ]
  },
  {
   "cell_type": "code",
   "execution_count": null,
   "id": "829001a3-2213-4eb3-9942-ee2583ff5577",
   "metadata": {},
   "outputs": [],
   "source": [
    "for i, doc in enumerate(documents):\n",
    "    print(f\"Document: {doc}\")\n",
    "    print(f\"Embedding: {embedded_documents[i][:5]}...\")  # Show first 5 values to avoid overwhelming output\n",
    "    print(\"\\n\")"
   ]
  },
  {
   "cell_type": "markdown",
   "id": "4b831983-1c2f-4b75-a36e-e1fea374cb1c",
   "metadata": {},
   "source": [
    "### Embedding a query"
   ]
  },
  {
   "cell_type": "code",
   "execution_count": null,
   "id": "3c13f2f2-2357-4e31-a432-9a34d70bcc9a",
   "metadata": {},
   "outputs": [],
   "source": [
    "query = \"Hello World!\"\n",
    "embedded_query = embeddings.embed_query(query)"
   ]
  },
  {
   "cell_type": "code",
   "execution_count": null,
   "id": "1ad525df-e411-4f9c-a796-f8c388b21d7e",
   "metadata": {},
   "outputs": [],
   "source": [
    "print(\"Query Embedding:\")\n",
    "print(f\"Query: {query}\")\n",
    "print(f\"Embedding: {embedded_query[:5]}...\")  # Show first 5 values of the embedding"
   ]
  }
 ],
 "metadata": {
  "kernelspec": {
   "display_name": "vllm-langchain",
   "language": "python",
   "name": "vllm-langchain"
  },
  "language_info": {
   "codemirror_mode": {
    "name": "ipython",
    "version": 3
   },
   "file_extension": ".py",
   "mimetype": "text/x-python",
   "name": "python",
   "nbconvert_exporter": "python",
   "pygments_lexer": "ipython3",
   "version": "3.10.14"
  }
 },
 "nbformat": 4,
 "nbformat_minor": 5
}
